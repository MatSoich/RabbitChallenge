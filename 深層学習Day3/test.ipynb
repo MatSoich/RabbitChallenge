{
 "cells": [
  {
   "cell_type": "code",
   "execution_count": 1,
   "metadata": {},
   "outputs": [],
   "source": [
    "# シグモイド\n",
    "def sigmoid(x):\n",
    "    return 1 / (1 + np.exp(-x))\n",
    "\n",
    "# GRUモデル\n",
    "# N:バッチサイズ、D:入力単語数、H:中間層の出力次元数\n",
    "class GRU:\n",
    "    def __init__(self, wx, wh, b):\n",
    "        self.params = wx, wh, b     # # wx[D,3H], wh[H,3H], b[3H]\n",
    "        \n",
    "    def forward(self, x, h_prev):\n",
    "        wx, wh, b = self.params\n",
    "        H = wh.shape[0]\n",
    "\n",
    "        wxz, wxr, wxh = wx[:, :H], wx[:, H:2*H], wx[:, 2*H:]    # 入力用重み\n",
    "        whz, whr, whh = wh[:, :H], wh[:, H:2*H], wh[:, 2*H:]    # 前の時刻出力用重み\n",
    "        bz, br, bh = b[:H], b[H:2*H], b[2*H:]                   # バイアス\n",
    "\n",
    "        z = sigmoid(np.dot(h_prev, whz) + np.dot(x, wxz) + bz)  # updateゲート\n",
    "        r = sigmoid(np.dot(h_prev, whr) + np.dot(x, wxr) + br)  # resetゲート\n",
    "        h_hat = sigmoid(np.dot(r*h_prev, whh) + np.dot(x, wxh) + bh )\n",
    "        h_next = (1-z) * h_prev + z * h_hat\n",
    "\n",
    "        return h_next"
   ]
  },
  {
   "cell_type": "code",
   "execution_count": 2,
   "metadata": {},
   "outputs": [
    {
     "data": {
      "text/plain": [
       "array([[8.97162999e-01, 9.51946567e-01, 9.40813925e-01, 3.89420704e-01,\n",
       "        1.30922893e-01, 3.78348888e-01, 8.73888777e-01, 8.47888307e-01,\n",
       "        3.21626557e-03, 9.99999999e-01],\n",
       "       [9.99424863e-01, 5.88506584e-03, 9.84042737e-01, 4.32849428e-05,\n",
       "        3.27377542e-02, 8.69721516e-01, 9.98324843e-01, 8.98370417e-01,\n",
       "        1.99970678e-06, 1.00000000e+00],\n",
       "       [9.99999798e-01, 1.64162703e-04, 9.96068315e-01, 1.26379480e-08,\n",
       "        7.12168692e-03, 9.86527923e-01, 9.99980523e-01, 9.66112207e-01,\n",
       "        1.84501465e-09, 1.00000000e+00],\n",
       "       [1.00000000e+00, 1.03099148e-05, 9.99040118e-01, 3.53402748e-12,\n",
       "        1.58634281e-03, 9.98756581e-01, 9.99999774e-01, 9.97111096e-01,\n",
       "        1.43704392e-12, 1.00000000e+00],\n",
       "       [1.00000000e+00, 6.48062532e-07, 9.99766182e-01, 9.03320330e-16,\n",
       "        3.73073699e-04, 9.99886514e-01, 9.99999997e-01, 9.99868169e-01,\n",
       "        8.95201054e-16, 1.00000000e+00]])"
      ]
     },
     "execution_count": 2,
     "metadata": {},
     "output_type": "execute_result"
    }
   ],
   "source": [
    "import numpy as np\n",
    "\n",
    "# 入力を適当に定義\n",
    "x = np.arange(25).reshape(5,5)\n",
    "h_prev = np.ones((5,10))\n",
    "\n",
    "# 重みを初期化\n",
    "wx = np.random.randn(5, 30)\n",
    "wh = np.random.randn(10, 30)\n",
    "b = np.zeros(30)\n",
    "\n",
    "# モデルインスタンス\n",
    "gru = GRU(wx, wh, b)\n",
    "\n",
    "# 順伝播\n",
    "gru.forward(x, h_prev)"
   ]
  },
  {
   "cell_type": "code",
   "execution_count": 4,
   "metadata": {},
   "outputs": [
    {
     "name": "stdout",
     "output_type": "stream",
     "text": [
      "\u001b[33mDEPRECATION: Configuring installation scheme with distutils config files is deprecated and will no longer work in the near future. If you are using a Homebrew or Linuxbrew Python, please see discussion at https://github.com/Homebrew/homebrew-core/issues/76621\u001b[0m\u001b[33m\n",
      "\u001b[0mCollecting gensim\n",
      "  Downloading gensim-4.2.0-cp39-cp39-macosx_10_9_x86_64.whl (24.0 MB)\n",
      "\u001b[2K     \u001b[90m━━━━━━━━━━━━━━━━━━━━━━━━━━━━━━━━━━━━━━━━\u001b[0m \u001b[32m24.0/24.0 MB\u001b[0m \u001b[31m11.5 MB/s\u001b[0m eta \u001b[36m0:00:00\u001b[0m00:01\u001b[0m00:01\u001b[0m\n",
      "\u001b[?25hCollecting smart-open>=1.8.1\n",
      "  Downloading smart_open-6.0.0-py3-none-any.whl (58 kB)\n",
      "\u001b[2K     \u001b[90m━━━━━━━━━━━━━━━━━━━━━━━━━━━━━━━━━━━━━━━━\u001b[0m \u001b[32m58.4/58.4 kB\u001b[0m \u001b[31m2.3 MB/s\u001b[0m eta \u001b[36m0:00:00\u001b[0m\n",
      "\u001b[?25hRequirement already satisfied: scipy>=0.18.1 in /usr/local/lib/python3.9/site-packages (from gensim) (1.6.1)\n",
      "Requirement already satisfied: numpy>=1.17.0 in /usr/local/lib/python3.9/site-packages (from gensim) (1.19.5)\n",
      "Installing collected packages: smart-open, gensim\n",
      "\u001b[33m  DEPRECATION: Configuring installation scheme with distutils config files is deprecated and will no longer work in the near future. If you are using a Homebrew or Linuxbrew Python, please see discussion at https://github.com/Homebrew/homebrew-core/issues/76621\u001b[0m\u001b[33m\n",
      "\u001b[0m\u001b[33m  DEPRECATION: Configuring installation scheme with distutils config files is deprecated and will no longer work in the near future. If you are using a Homebrew or Linuxbrew Python, please see discussion at https://github.com/Homebrew/homebrew-core/issues/76621\u001b[0m\u001b[33m\n",
      "\u001b[0m\u001b[33mDEPRECATION: Configuring installation scheme with distutils config files is deprecated and will no longer work in the near future. If you are using a Homebrew or Linuxbrew Python, please see discussion at https://github.com/Homebrew/homebrew-core/issues/76621\u001b[0m\u001b[33m\n",
      "\u001b[0mSuccessfully installed gensim-4.2.0 smart-open-6.0.0\n",
      "Note: you may need to restart the kernel to use updated packages.\n"
     ]
    }
   ],
   "source": [
    "pip install --upgrade gensim"
   ]
  },
  {
   "cell_type": "code",
   "execution_count": 1,
   "metadata": {},
   "outputs": [
    {
     "ename": "SyntaxError",
     "evalue": "invalid syntax (<ipython-input-1-e3ef6a88eb87>, line 1)",
     "output_type": "error",
     "traceback": [
      "\u001b[0;36m  File \u001b[0;32m\"<ipython-input-1-e3ef6a88eb87>\"\u001b[0;36m, line \u001b[0;32m1\u001b[0m\n\u001b[0;31m    curl http://public.shiroyagi.s3.amazonaws.com/latest-ja-word2vec-gensim-model.zip > latest-ja-word2vec-gensim-model.zip\u001b[0m\n\u001b[0m         ^\u001b[0m\n\u001b[0;31mSyntaxError\u001b[0m\u001b[0;31m:\u001b[0m invalid syntax\n"
     ]
    }
   ],
   "source": [
    "curl http://public.shiroyagi.s3.amazonaws.com/latest-ja-word2vec-gensim-model.zip > latest-ja-word2vec-gensim-model.zip"
   ]
  },
  {
   "cell_type": "code",
   "execution_count": null,
   "metadata": {},
   "outputs": [],
   "source": [
    "unzip latest-ja-word2vec-gensim-model.zip\n"
   ]
  },
  {
   "cell_type": "code",
   "execution_count": 2,
   "metadata": {},
   "outputs": [
    {
     "name": "stdout",
     "output_type": "stream",
     "text": [
      "('ソフトボール', 0.8520911931991577)\n",
      "('ラグビー', 0.8089540600776672)\n",
      "('サッカー', 0.7957996726036072)\n",
      "('軟式野球', 0.7862450480461121)\n",
      "('少年野球', 0.7850692868232727)\n",
      "('アメフト', 0.7838374972343445)\n",
      "('プロ野球', 0.7779729962348938)\n",
      "('リトルリーグ', 0.7625014781951904)\n",
      "('ホッケー', 0.7582970261573792)\n",
      "('フットサル', 0.7554671764373779)\n"
     ]
    }
   ],
   "source": [
    "from gensim.models.word2vec import Word2Vec\n",
    "model_path = 'word2vec.gensim.model'\n",
    "model = Word2Vec.load(model_path)\n",
    "for r in model.wv.most_similar(positive=['野球']):\n",
    "    print(r)"
   ]
  }
 ],
 "metadata": {
  "kernelspec": {
   "display_name": "Python 3.9.8 64-bit",
   "language": "python",
   "name": "python3"
  },
  "language_info": {
   "codemirror_mode": {
    "name": "ipython",
    "version": 3
   },
   "file_extension": ".py",
   "mimetype": "text/x-python",
   "name": "python",
   "nbconvert_exporter": "python",
   "pygments_lexer": "ipython3",
   "version": "3.9.8"
  },
  "orig_nbformat": 4,
  "vscode": {
   "interpreter": {
    "hash": "aee8b7b246df8f9039afb4144a1f6fd8d2ca17a180786b69acc140d282b71a49"
   }
  }
 },
 "nbformat": 4,
 "nbformat_minor": 2
}
