{
  "cells": [
    {
      "cell_type": "markdown",
      "metadata": {
        "id": "k-h2gD-9nYDS"
      },
      "source": [
        "# モジュールのロード"
      ]
    },
    {
      "cell_type": "code",
      "execution_count": 1,
      "metadata": {
        "id": "tRw72shtZd5n"
      },
      "outputs": [],
      "source": [
        "import tensorflow as tf\n",
        "import numpy as np"
      ]
    },
    {
      "cell_type": "markdown",
      "metadata": {
        "id": "xBzwYKDlndK0"
      },
      "source": [
        "# データのロード"
      ]
    },
    {
      "cell_type": "code",
      "execution_count": 2,
      "metadata": {
        "colab": {
          "base_uri": "https://localhost:8080/"
        },
        "id": "tbHfA0DpZvFS",
        "outputId": "62a489e8-2fef-4b11-cea6-80bb61ee3248"
      },
      "outputs": [
        {
          "name": "stdout",
          "output_type": "stream",
          "text": [
            "Downloading data from https://www.cs.toronto.edu/~kriz/cifar-10-python.tar.gz\n",
            "111681536/170498071 [==================>...........] - ETA: 2:16"
          ]
        }
      ],
      "source": [
        "(x_train, y_train), (x_test, y_test) = tf.keras.datasets.cifar10.load_data()\n",
        "\n",
        "x_train = x_train / 255\n",
        "x_test = x_test / 255\n",
        "y_train = tf.one_hot(y_train.reshape(len(y_train)), depth=10)\n",
        "y_test = tf.one_hot(y_test.reshape(len(y_test)), depth=10)\n",
        "\n",
        "print(x_train.shape)\n",
        "print(y_train.shape)\n",
        "print(x_test.shape)\n",
        "print(y_test.shape)"
      ]
    },
    {
      "cell_type": "code",
      "execution_count": null,
      "metadata": {
        "id": "jQyfey6LaTly"
      },
      "outputs": [],
      "source": [
        "index2label = {\n",
        "    0: 'airplane',\n",
        "    1: 'automobile',\n",
        "    2: 'bird',\n",
        "    3: 'cat',\n",
        "    4: 'deer',\n",
        "    5: 'dog',\n",
        "    6: 'frog',\n",
        "    7: 'horse',\n",
        "    8: 'ship',\n",
        "    9: 'truck'\n",
        "}"
      ]
    },
    {
      "cell_type": "code",
      "execution_count": null,
      "metadata": {
        "colab": {
          "base_uri": "https://localhost:8080/",
          "height": 572
        },
        "id": "zP-lGj6SbLz9",
        "outputId": "a8f98715-4926-4d88-b8ad-fc3c51b10f00"
      },
      "outputs": [],
      "source": [
        "import matplotlib.pyplot as plt\n",
        "import random\n",
        "\n",
        "index = 0\n",
        "count = 50\n",
        "\n",
        "plt.figure(figsize=(16, 10))\n",
        "\n",
        "for i, img in enumerate(x_test[index:index+count]):\n",
        "    plt.subplot(5, 10, i + 1)\n",
        "    plt.imshow(img)\n",
        "    plt.axis('off')\n",
        "    plt.title(index2label[np.argmax(y_test[i])])\n",
        "\n",
        "plt.show()"
      ]
    },
    {
      "cell_type": "markdown",
      "metadata": {
        "id": "NBAVadhKnhlG"
      },
      "source": [
        "# ベースモデルでの実行(正則化なし)"
      ]
    },
    {
      "cell_type": "code",
      "execution_count": null,
      "metadata": {
        "id": "DNdP6Y4Zn3Hz"
      },
      "outputs": [],
      "source": [
        "epochs = 5\n",
        "batch_size = 256"
      ]
    },
    {
      "cell_type": "code",
      "execution_count": null,
      "metadata": {
        "id": "rBOX5DnsnoTv"
      },
      "outputs": [],
      "source": [
        "def create_model(input_shape, class_num):\n",
        "    model = tf.keras.models.Sequential([\n",
        "        tf.keras.layers.Conv2D(32, 3, padding='same', input_shape=input_shape[1:], activation='relu'),\n",
        "        tf.keras.layers.Conv2D(32, 3, activation='relu'),\n",
        "        tf.keras.layers.MaxPooling2D(),\n",
        "        tf.keras.layers.Flatten(),\n",
        "        tf.keras.layers.Dense(512, activation='relu'),\n",
        "        tf.keras.layers.Dense(class_num, activation='softmax'),\n",
        "    ])\n",
        "\n",
        "    model.compile(optimizer='adam', loss='categorical_crossentropy', metrics=['acc'])\n",
        "\n",
        "    return model"
      ]
    },
    {
      "cell_type": "code",
      "execution_count": null,
      "metadata": {
        "colab": {
          "base_uri": "https://localhost:8080/"
        },
        "id": "wT3YgzQEnsE3",
        "outputId": "7e41d0cd-0c6b-4adb-ba9c-a835040b652f"
      },
      "outputs": [],
      "source": [
        "model = create_model(x_train.shape, 10)\n",
        "model.summary()"
      ]
    },
    {
      "cell_type": "code",
      "execution_count": null,
      "metadata": {
        "colab": {
          "base_uri": "https://localhost:8080/"
        },
        "id": "cA4aHYTYo7GS",
        "outputId": "a780c459-7c91-4358-d92b-16077894d647"
      },
      "outputs": [],
      "source": [
        "history = model.fit(x_train, y_train, \n",
        "                    validation_data=(x_test, y_test),\n",
        "                    batch_size=batch_size, epochs=epochs)"
      ]
    },
    {
      "cell_type": "markdown",
      "metadata": {
        "id": "sTWsRKKyojJ2"
      },
      "source": [
        "# 正則化あり"
      ]
    },
    {
      "cell_type": "markdown",
      "metadata": {
        "id": "TZpRAH1Aon8O"
      },
      "source": [
        "## L1正則化の実行例\n",
        "\n",
        "出力直前の全結合層においてL1正則化を適用した場合の例です。"
      ]
    },
    {
      "cell_type": "code",
      "execution_count": null,
      "metadata": {
        "id": "q5mLezULpC_B"
      },
      "outputs": [],
      "source": [
        "def create_model(input_shape, class_num):\n",
        "    model = tf.keras.models.Sequential([\n",
        "        tf.keras.layers.Conv2D(32, 3, padding='same', input_shape=input_shape[1:], activation='relu'),\n",
        "        tf.keras.layers.Conv2D(32, 3, activation='relu'),\n",
        "        tf.keras.layers.MaxPooling2D(),\n",
        "        tf.keras.layers.Flatten(),\n",
        "        tf.keras.layers.Dense(512, activation='relu', activity_regularizer=tf.keras.regularizers.L1(0.01)),\n",
        "        tf.keras.layers.Dense(class_num, activation='softmax'),\n",
        "    ])\n",
        "\n",
        "    model.compile(optimizer='adam', loss='categorical_crossentropy', metrics=['acc'])\n",
        "\n",
        "    return model"
      ]
    },
    {
      "cell_type": "code",
      "execution_count": null,
      "metadata": {
        "colab": {
          "base_uri": "https://localhost:8080/"
        },
        "id": "JgDV2DoQqkW2",
        "outputId": "2856300a-1795-4137-cc0e-11033405b724"
      },
      "outputs": [],
      "source": [
        "model = create_model(x_train.shape, 10)\n",
        "model.summary()"
      ]
    },
    {
      "cell_type": "code",
      "execution_count": null,
      "metadata": {
        "colab": {
          "base_uri": "https://localhost:8080/"
        },
        "id": "jlRiN_FnpEtu",
        "outputId": "9802e629-4efb-4077-c1d6-ccc7263da00c"
      },
      "outputs": [],
      "source": [
        "history = model.fit(x_train, y_train, \n",
        "                    validation_data=(x_test, y_test),\n",
        "                    batch_size=batch_size, epochs=epochs)"
      ]
    },
    {
      "cell_type": "markdown",
      "metadata": {
        "id": "maTrIF-PorRm"
      },
      "source": [
        "## L2正則化の実行例\n",
        "\n",
        "出力直前の全結合層においてL2正則化を適用した場合の例です。"
      ]
    },
    {
      "cell_type": "code",
      "execution_count": null,
      "metadata": {
        "id": "ym60a6kdpZ0c"
      },
      "outputs": [],
      "source": [
        "def create_model(input_shape, class_num):\n",
        "    model = tf.keras.models.Sequential([\n",
        "        tf.keras.layers.Conv2D(32, 3, padding='same', input_shape=input_shape[1:], activation='relu'),\n",
        "        tf.keras.layers.Conv2D(32, 3, activation='relu'),\n",
        "        tf.keras.layers.MaxPooling2D(),\n",
        "        tf.keras.layers.Flatten(),\n",
        "        tf.keras.layers.Dense(512, activation='relu', activity_regularizer=tf.keras.regularizers.L2(0.01)),\n",
        "        tf.keras.layers.Dense(class_num, activation='softmax'),\n",
        "    ])\n",
        "\n",
        "    model.compile(optimizer='adam', loss='categorical_crossentropy', metrics=['acc'])\n",
        "\n",
        "    return model"
      ]
    },
    {
      "cell_type": "code",
      "execution_count": null,
      "metadata": {
        "colab": {
          "base_uri": "https://localhost:8080/"
        },
        "id": "cj6Ql1k7qleK",
        "outputId": "c95cd8cb-aa60-4401-a511-082292c065ee"
      },
      "outputs": [],
      "source": [
        "model = create_model(x_train.shape, 10)\n",
        "model.summary()"
      ]
    },
    {
      "cell_type": "code",
      "execution_count": null,
      "metadata": {
        "colab": {
          "base_uri": "https://localhost:8080/"
        },
        "id": "XUZM6RzApZ5U",
        "outputId": "647ac03c-41a4-4ba8-9884-c73789a5d696"
      },
      "outputs": [],
      "source": [
        "history = model.fit(x_train, y_train, \n",
        "                    validation_data=(x_test, y_test),\n",
        "                    batch_size=batch_size, epochs=epochs)"
      ]
    },
    {
      "cell_type": "markdown",
      "metadata": {
        "id": "mDqGXRm6otKp"
      },
      "source": [
        "## Elasti Netの実行例"
      ]
    },
    {
      "cell_type": "code",
      "execution_count": null,
      "metadata": {
        "id": "xaHqFTqCpgol"
      },
      "outputs": [],
      "source": [
        "def create_model(input_shape, class_num):\n",
        "    model = tf.keras.models.Sequential([\n",
        "        tf.keras.layers.Conv2D(32, 3, padding='same', input_shape=input_shape[1:], activation='relu'),\n",
        "        tf.keras.layers.Conv2D(32, 3, activation='relu'),\n",
        "        tf.keras.layers.MaxPooling2D(),\n",
        "        tf.keras.layers.Flatten(),\n",
        "        tf.keras.layers.Dense(512, activation='relu', activity_regularizer=tf.keras.regularizers.L1L2(0.01)),\n",
        "        tf.keras.layers.Dense(class_num, activation='softmax'),\n",
        "    ])\n",
        "\n",
        "    model.compile(optimizer='adam', loss='categorical_crossentropy', metrics=['acc'])\n",
        "\n",
        "    return model"
      ]
    },
    {
      "cell_type": "code",
      "execution_count": null,
      "metadata": {
        "colab": {
          "base_uri": "https://localhost:8080/"
        },
        "id": "s6zovcvNqmYV",
        "outputId": "9d9554c1-725d-453f-c347-7267f0705e91"
      },
      "outputs": [],
      "source": [
        "model = create_model(x_train.shape, 10)\n",
        "model.summary()"
      ]
    },
    {
      "cell_type": "code",
      "execution_count": null,
      "metadata": {
        "colab": {
          "base_uri": "https://localhost:8080/"
        },
        "id": "yOLFsRdgpgyT",
        "outputId": "b629d0ca-ead3-423b-898f-3f3e5beb49ae"
      },
      "outputs": [],
      "source": [
        "history = model.fit(x_train, y_train, \n",
        "                    validation_data=(x_test, y_test),\n",
        "                    batch_size=batch_size, epochs=epochs)"
      ]
    },
    {
      "cell_type": "markdown",
      "metadata": {
        "id": "a8KzCSY2oxZc"
      },
      "source": [
        "# 各正則化手法の比較\n",
        "\n",
        "L1、L2、ElastiNetをぞれぞれ適用した場合の比較です。"
      ]
    },
    {
      "cell_type": "code",
      "execution_count": null,
      "metadata": {
        "id": "fFw90gexb2w-"
      },
      "outputs": [],
      "source": [
        "def create_model(input_shape, class_num, regularization_method, regularization_method_weight=0.01):\n",
        "    model = tf.keras.models.Sequential([\n",
        "        tf.keras.layers.Conv2D(32, 3, padding='same', input_shape=input_shape[1:], activation='relu'),\n",
        "        tf.keras.layers.Conv2D(32, 3, activation='relu'),\n",
        "        tf.keras.layers.MaxPooling2D(),\n",
        "        tf.keras.layers.Flatten(),\n",
        "        tf.keras.layers.Dense(512, activation='relu',\n",
        "                              activity_regularizer=regularization_method(regularization_method_weight)) if regularization_method else tf.keras.layers.Dense(512, activation='relu'),\n",
        "        tf.keras.layers.Dense(class_num, activation='softmax'),\n",
        "    ])\n",
        "\n",
        "    model.compile(optimizer='adam', loss='categorical_crossentropy', metrics=['acc'])\n",
        "\n",
        "    return model"
      ]
    },
    {
      "cell_type": "code",
      "execution_count": null,
      "metadata": {
        "colab": {
          "base_uri": "https://localhost:8080/"
        },
        "id": "6R9Ol6IpdfnT",
        "outputId": "7ff97ed7-9d8e-4dd6-85b4-7541d90782a3"
      },
      "outputs": [],
      "source": [
        "epochs = 10\n",
        "batch_size = 256\n",
        "\n",
        "regularizers = [\n",
        "                None,\n",
        "                tf.keras.regularizers.L1,\n",
        "                tf.keras.regularizers.L2,\n",
        "                tf.keras.regularizers.L1L2\n",
        "]\n",
        "\n",
        "tf.random.set_seed(0) # 再現性を高めるために乱数シードを固定しています。\n",
        "histories = []\n",
        "for regularizer in regularizers:\n",
        "    model = create_model(x_train.shape, 10, regularizer)\n",
        "\n",
        "    history = model.fit(x_train, y_train, \n",
        "                    validation_data=(x_test, y_test),\n",
        "                    batch_size=batch_size, epochs=epochs)\n",
        "    histories.append(history)"
      ]
    },
    {
      "cell_type": "code",
      "execution_count": null,
      "metadata": {
        "colab": {
          "base_uri": "https://localhost:8080/",
          "height": 1000
        },
        "id": "2s47Nsm5d_NM",
        "outputId": "773d5f01-bdbd-4be2-dc62-b2b828758ec2"
      },
      "outputs": [],
      "source": [
        "import pandas as pd\n",
        "import seaborn as sns\n",
        "\n",
        "fig = plt.figure(figsize=(10, 20))\n",
        "\n",
        "for i, history in enumerate(histories):\n",
        "    regularizer_name = str(regularizers[i])\n",
        "    ax = fig.add_subplot(4, 1, i + 1)\n",
        "    \n",
        "    plot_df = pd.DataFrame(history.history)[['loss', 'val_loss']]\n",
        "    sns.lineplot(data=plot_df, ax=ax)\n",
        "    ax.set_title(regularizer_name)"
      ]
    },
    {
      "cell_type": "code",
      "execution_count": null,
      "metadata": {
        "id": "uyTr8OqmiQVK"
      },
      "outputs": [],
      "source": []
    }
  ],
  "metadata": {
    "accelerator": "GPU",
    "colab": {
      "collapsed_sections": [],
      "name": "regularization.ipynb",
      "provenance": []
    },
    "kernelspec": {
      "display_name": "Python 3.9.8 64-bit",
      "language": "python",
      "name": "python3"
    },
    "language_info": {
      "codemirror_mode": {
        "name": "ipython",
        "version": 3
      },
      "file_extension": ".py",
      "mimetype": "text/x-python",
      "name": "python",
      "nbconvert_exporter": "python",
      "pygments_lexer": "ipython3",
      "version": "3.9.8"
    },
    "vscode": {
      "interpreter": {
        "hash": "aee8b7b246df8f9039afb4144a1f6fd8d2ca17a180786b69acc140d282b71a49"
      }
    }
  },
  "nbformat": 4,
  "nbformat_minor": 2
}
